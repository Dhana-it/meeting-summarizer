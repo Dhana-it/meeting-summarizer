{
 "cells": [
  {
   "cell_type": "code",
   "execution_count": 4,
   "id": "89561ba0",
   "metadata": {},
   "outputs": [
    {
     "name": "stderr",
     "output_type": "stream",
     "text": [
      "Device set to use cpu\n",
      "Device set to use cpu\n"
     ]
    },
    {
     "name": "stdout",
     "output_type": "stream",
     "text": [
      "Meeting Summary:\n",
      "The team discussed customer feedback from the recent survey. Most respondents appreciated the improvements in the mobile app, but several raised concerns about data privacy and login issues. Priya suggested implementing a two-factor authentication feature, and the engineering team agreed to evaluate its feasibility.\n",
      "\n",
      "Action Items:\n",
      "- Alice agreed to start researching local vendors for translation services, and John will oversee the legal compliance process\n",
      "- Bob will evaluate available platforms and present his findings at the next meeting\n",
      "- - Bob to evaluate new task-tracking platforms and present findings at next meeting\n",
      "- - Sarah to schedule the next team meeting for Thursday at 2 PM\n"
     ]
    }
   ],
   "source": [
    "import torch\n",
    "from transformers import pipeline\n",
    "\n",
    "# 1. Summarization pipeline (multilingual models like 'facebook/mbart-large-50-many-to-many-mmt' for real use)\n",
    "summarizer = pipeline(\"summarization\", model=\"facebook/bart-large-cnn\")\n",
    "\n",
    "# 2. Action Item Extraction (using zero-shot classification as a proxy)\n",
    "action_item_classifier = pipeline(\"zero-shot-classification\", model=\"facebook/bart-large-mnli\")\n",
    "\n",
    "def summarize_transcript(transcript):\n",
    "    summary = summarizer(transcript, max_length=130, min_length=30, do_sample=False)\n",
    "    return summary[0]['summary_text']\n",
    "\n",
    "def extract_action_items(transcript):\n",
    "    # Split transcript into sentences (simple split; for production use NLP sentence segmentation)\n",
    "    sentences = transcript.split('.')\n",
    "    action_labels = [\"action item\", \"decision\", \"follow up\", \"task\", \"to do\"]\n",
    "    action_items = []\n",
    "    for sentence in sentences:\n",
    "        if sentence.strip():\n",
    "            result = action_item_classifier(sentence, action_labels)\n",
    "            # If 'action item' is the top label and score > 0.5, treat as an action item\n",
    "            if result['labels'][0] == \"action item\" and result['scores'][0] > 0.5:\n",
    "                action_items.append(sentence.strip())\n",
    "    return action_items\n",
    "\n",
    "# --- Example Usage ---\n",
    "if __name__ == \"__main__\":\n",
    "    transcript = \"\"\"\n",
    "## Meeting Summary\n",
    "\n",
    "The meeting commenced with a review of last quarter’s sales figures, highlighting a 10% growth despite seasonal fluctuations. John presented the updated financial spreadsheet, noting that marketing expenses increased by 15%, primarily due to the new campaign for the product launch. Sarah asked about the ROI of these campaigns, and John agreed to provide a detailed report at the next meeting.\n",
    "\n",
    "The team then discussed customer feedback from the recent survey. Most respondents appreciated the improvements in the mobile app, but several raised concerns about data privacy and login issues. Priya suggested implementing a two-factor authentication feature, and the engineering team agreed to evaluate its feasibility.\n",
    "\n",
    "The product roadmap for Q4 was next on the agenda. Alice proposed prioritizing the mobile app update, focusing on new features such as offline access and enhanced notifications. Bob recommended a phased rollout to minimize risks, and everyone concurred. Tim volunteered to draft a timeline for the update and share it with the group by Friday.\n",
    "\n",
    "Marketing strategies for the upcoming quarter were discussed. Carol presented options for expanding social media outreach, including targeted ads and influencer partnerships. Bob cautioned that the team should monitor engagement metrics closely. Priya will coordinate with Carol to develop sample ad copy by next week.\n",
    "\n",
    "The group considered international expansion opportunities, especially in the Latin American market. Sarah explained the regulatory requirements for localization and translation. Alice agreed to start researching local vendors for translation services, and John will oversee the legal compliance process.\n",
    "\n",
    "The team also reviewed project management practices. Tim suggested adopting a new task-tracking tool to improve transparency and accountability. Bob will evaluate available platforms and present his findings at the next meeting.\n",
    "\n",
    "Carol announced a client meeting scheduled for next Wednesday, focusing on the new app features and customer feedback. Priya will prepare a presentation, and Bob will provide the latest user engagement statistics.\n",
    "\n",
    "The meeting ended with a review of action items and deadlines. Alice reminded everyone to update their tasks in the shared project tracker, and Sarah confirmed the next meeting will be held on Thursday at 2 PM.\n",
    "\n",
    "---\n",
    "\n",
    "\n",
    "    \n",
    "    \"\"\"\n",
    "    \n",
    "    print(\"Meeting Summary:\")\n",
    "    print(summarize_transcript(transcript))\n",
    "    \n",
    "    print(\"\\nAction Items:\")\n",
    "    for item in extract_action_items(transcript):\n",
    "        print(\"- \" + item)\n",
    "        "
   ]
  }
 ],
 "metadata": {
  "kernelspec": {
   "display_name": "Python 3",
   "language": "python",
   "name": "python3"
  },
  "language_info": {
   "codemirror_mode": {
    "name": "ipython",
    "version": 3
   },
   "file_extension": ".py",
   "mimetype": "text/x-python",
   "name": "python",
   "nbconvert_exporter": "python",
   "pygments_lexer": "ipython3",
   "version": "3.13.5"
  }
 },
 "nbformat": 4,
 "nbformat_minor": 5
}
