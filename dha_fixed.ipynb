from transformers 
import pipeline

# Load a model (this will resume download if partial exists)
summarizer = pipeline("summarization", model="facebook/bart-large-cnn")

text = "This is a test meeting transcript. It has several points."

summary = summarizer(text, max_length=50, min_length=20, do_sample=False)

print("Summary:", summary[0]['summary_text'])
